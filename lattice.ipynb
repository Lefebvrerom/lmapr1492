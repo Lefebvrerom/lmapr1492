{
 "cells": [
  {
   "cell_type": "markdown",
   "id": "pleasant-industry",
   "metadata": {},
   "source": [
    "# Tâche 5 : Lattice"
   ]
  },
  {
   "cell_type": "code",
   "execution_count": 82,
   "id": "confused-sport",
   "metadata": {},
   "outputs": [],
   "source": [
    "from pymatgen.ext.matproj import MPRester\n",
    "from pymatgen.io.cif import CifWriter\n",
    "from pymatgen import Lattice, Structure, Molecule\n",
    "from pymatgen.symmetry.analyzer import SpacegroupAnalyzer\n",
    "from jupyter_jsmol.pymatgen import quick_view\n",
    "from pymatgen.core.lattice import Lattice\n",
    "from pymatgen.core.structure import Structure\n",
    "import numpy as np"
   ]
  },
  {
   "cell_type": "code",
   "execution_count": 83,
   "id": "sorted-aircraft",
   "metadata": {},
   "outputs": [],
   "source": [
    "with MPRester(\"mxlrouyFDIMHNAE4\") as m:\n",
    "    structure = m.get_structure_by_material_id(\"mp-10615\")\n",
    "    Analyzer = SpacegroupAnalyzer(structure)"
   ]
  },
  {
   "cell_type": "markdown",
   "id": "minus-warehouse",
   "metadata": {},
   "source": [
    "### Les vecteurs de bases"
   ]
  },
  {
   "cell_type": "code",
   "execution_count": 84,
   "id": "involved-geometry",
   "metadata": {},
   "outputs": [
    {
     "name": "stdout",
     "output_type": "stream",
     "text": [
      "Les vecteurs de bases du réseau direct sont: a = 4.4334958583384285 Å\n",
      "                                             b = 4.4334958583384285 Å\n",
      "                                             c = 4.526946 Å\n"
     ]
    }
   ],
   "source": [
    "print(\"Les vecteurs de bases du réseau direct sont: a = \" + str(structure.lattice.a) + \" Å\\n\"\n",
    "     \"                                             b = \" + str(structure.lattice.b) + \" Å\\n\"\n",
    "     \"                                             c = \" + str(structure.lattice.c) + \" Å\")"
   ]
  },
  {
   "cell_type": "code",
   "execution_count": 85,
   "id": "certain-sweden",
   "metadata": {},
   "outputs": [
    {
     "name": "stdout",
     "output_type": "stream",
     "text": [
      "Les vecteurs de bases du réseau réciproque sont: a = 1.6364506777971455 Å\n",
      "                                                 b = 1.6364506777971453 Å\n",
      "                                                 c = 1.3879523429657845 Å\n"
     ]
    }
   ],
   "source": [
    "print(\"Les vecteurs de bases du réseau réciproque sont: a = \" + str(structure.lattice.reciprocal_lattice.a) + \" Å\\n\"\n",
    "     \"                                                 b = \" + str(structure.lattice.reciprocal_lattice.b) + \" Å\\n\"\n",
    "     \"                                                 c = \" + str(structure.lattice.reciprocal_lattice.c) + \" Å\")"
   ]
  },
  {
   "cell_type": "markdown",
   "id": "confused-index",
   "metadata": {},
   "source": [
    "### Le type de maille"
   ]
  },
  {
   "cell_type": "code",
   "execution_count": 86,
   "id": "embedded-right",
   "metadata": {},
   "outputs": [
    {
     "name": "stdout",
     "output_type": "stream",
     "text": [
      "Le type de maille du BaLiP est hexagonal\n"
     ]
    }
   ],
   "source": [
    "print(\"Le type de maille du BaLiP est \" + Analyzer.get_lattice_type())"
   ]
  },
  {
   "cell_type": "markdown",
   "id": "peaceful-fountain",
   "metadata": {},
   "source": [
    "### Le système cristallin"
   ]
  },
  {
   "cell_type": "code",
   "execution_count": 87,
   "id": "eight-request",
   "metadata": {},
   "outputs": [
    {
     "name": "stdout",
     "output_type": "stream",
     "text": [
      "Le système cristallin du BaLiP est hexagonal\n"
     ]
    }
   ],
   "source": [
    "print(\"Le système cristallin du BaLiP est \" + Analyzer.get_crystal_system())"
   ]
  },
  {
   "cell_type": "markdown",
   "id": "empty-microwave",
   "metadata": {},
   "source": [
    "### Le groupe ponctuel"
   ]
  },
  {
   "cell_type": "code",
   "execution_count": 88,
   "id": "numeric-jones",
   "metadata": {},
   "outputs": [
    {
     "name": "stdout",
     "output_type": "stream",
     "text": [
      "Le groupe ponctuel du BaLiP est -6m2\n"
     ]
    }
   ],
   "source": [
    "print(\"Le groupe ponctuel du BaLiP est \" + Analyzer.get_point_group_symbol())"
   ]
  },
  {
   "cell_type": "code",
   "execution_count": null,
   "id": "valid-ability",
   "metadata": {},
   "outputs": [],
   "source": []
  }
 ],
 "metadata": {
  "kernelspec": {
   "display_name": "Python 3",
   "language": "python",
   "name": "python3"
  },
  "language_info": {
   "codemirror_mode": {
    "name": "ipython",
    "version": 3
   },
   "file_extension": ".py",
   "mimetype": "text/x-python",
   "name": "python",
   "nbconvert_exporter": "python",
   "pygments_lexer": "ipython3",
   "version": "3.6.8"
  }
 },
 "nbformat": 4,
 "nbformat_minor": 5
}
