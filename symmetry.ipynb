{
 "cells": [
  {
   "cell_type": "markdown",
   "id": "patent-parliament",
   "metadata": {},
   "source": [
    "# Tâche 6 : Symmetry"
   ]
  },
  {
   "cell_type": "code",
   "execution_count": 48,
   "id": "viral-louis",
   "metadata": {},
   "outputs": [],
   "source": [
    "# Import\n",
    "from pymatgen import Structure\n",
    "from pymatgen.ext.matproj import MPRester\n",
    "from pymatgen.symmetry.analyzer import SpacegroupAnalyzer\n",
    "from jupyter_jsmol.pymatgen import quick_view\n",
    "from jupyter_jsmol import JsmolView"
   ]
  },
  {
   "cell_type": "code",
   "execution_count": 49,
   "id": "decreased-arcade",
   "metadata": {},
   "outputs": [],
   "source": [
    "with MPRester(\"mxlrouyFDIMHNAE4\") as m:\n",
    "    structure = m.get_structure_by_material_id(\"mp-10615\")"
   ]
  },
  {
   "cell_type": "code",
   "execution_count": 50,
   "id": "sublime-cradle",
   "metadata": {},
   "outputs": [
    {
     "data": {
      "application/vnd.jupyter.widget-view+json": {
       "model_id": "650768a8ceb6486bbaa05613c0b837a9",
       "version_major": 2,
       "version_minor": 0
      },
      "text/plain": [
       "JsmolView(layout=Layout(align_self='stretch', height='400px'))"
      ]
     },
     "metadata": {},
     "output_type": "display_data"
    }
   ],
   "source": [
    "view = JsmolView()\n",
    "display(view)\n",
    "view.load(\"BaLiP_mp-10615_symmetrized.cif\", '{1 1 1}')"
   ]
  },
  {
   "cell_type": "code",
   "execution_count": 51,
   "id": "harmful-domain",
   "metadata": {},
   "outputs": [],
   "source": [
    "a = Analyzer.get_symmetry_operations()\n",
    "\n",
    "Sym1 = a[3]\n",
    "Sym2 = a[2]\n",
    "Sym3 = a[6]\n",
    "\n",
    "Ba = [2/3,1/3,0]\n",
    "Li = [0,0,1/2]\n",
    "P = [1/3,2/3,1/2]\n",
    "\n",
    "Ba_s = Sym3.operate(Ba)\n",
    "Li_s = Sym1.operate(Li)\n",
    "P_s = Sym2.operate(P)"
   ]
  },
  {
   "cell_type": "markdown",
   "id": "operating-intensity",
   "metadata": {},
   "source": [
    "##  1) Réflexion"
   ]
  },
  {
   "cell_type": "markdown",
   "id": "large-hunter",
   "metadata": {},
   "source": [
    "Illustration de la réflexion par rapport au plan mirroir : "
   ]
  },
  {
   "cell_type": "code",
   "execution_count": 52,
   "id": "split-transportation",
   "metadata": {},
   "outputs": [
    {
     "data": {
      "application/vnd.jupyter.widget-view+json": {
       "model_id": "d03e97edbf7840b8b201027034e90f9d",
       "version_major": 2,
       "version_minor": 0
      },
      "text/plain": [
       "JsmolView(layout=Layout(align_self='stretch', height='400px'))"
      ]
     },
     "metadata": {},
     "output_type": "display_data"
    }
   ],
   "source": [
    "view=quick_view(structure)\n",
    "display(view)\n",
    "view.script(\"draw symop 2 {atomno=2}\")"
   ]
  },
  {
   "cell_type": "code",
   "execution_count": 53,
   "id": "middle-partner",
   "metadata": {},
   "outputs": [
    {
     "name": "stdout",
     "output_type": "stream",
     "text": [
      "Rot:\n",
      "[[ 1.  0.  0.]\n",
      " [ 0.  1.  0.]\n",
      " [ 0.  0. -1.]]\n",
      "tau\n",
      "[0. 0. 0.]\n"
     ]
    }
   ],
   "source": [
    "print(Sym1)"
   ]
  },
  {
   "cell_type": "markdown",
   "id": "genuine-provision",
   "metadata": {},
   "source": [
    "### Équation :"
   ]
  },
  {
   "cell_type": "markdown",
   "id": "ancient-marine",
   "metadata": {},
   "source": [
    "\\begin{equation}\n",
    "\\begin{pmatrix} 1 & 0 & 0\\\\0 & 1 & 0\\\\0 & 0 & -1\\end{pmatrix}\\begin{pmatrix}x\\\\y\\\\z\\end{pmatrix}=\\begin{pmatrix}x\\\\y\\\\-z\\end{pmatrix}\n",
    "\\end{equation}"
   ]
  },
  {
   "cell_type": "markdown",
   "id": "exterior-point",
   "metadata": {},
   "source": [
    "Le déterminant de cette matrice vaut -1. C’est une opération de deuxième espèce qui inverse la chiralité."
   ]
  },
  {
   "cell_type": "code",
   "execution_count": 54,
   "id": "further-index",
   "metadata": {},
   "outputs": [
    {
     "name": "stdout",
     "output_type": "stream",
     "text": [
      "l'atome Li passe de la position :[0, 0, 0.5] à la position :[ 0.   0.  -0.5]\n"
     ]
    }
   ],
   "source": [
    "print(\"l'atome Li passe de la position :\" + str(Li) +  \" à la position :\" + str(Li_s))"
   ]
  },
  {
   "cell_type": "markdown",
   "id": "acquired-michigan",
   "metadata": {},
   "source": [
    "## 2) Rotation d'ordre 3"
   ]
  },
  {
   "cell_type": "markdown",
   "id": "northern-detroit",
   "metadata": {},
   "source": [
    "Illustration de la rotation d'ordre 3 selon C :"
   ]
  },
  {
   "cell_type": "code",
   "execution_count": 55,
   "id": "generous-apparatus",
   "metadata": {},
   "outputs": [
    {
     "data": {
      "application/vnd.jupyter.widget-view+json": {
       "model_id": "60bda4f77df3476bac983e1005fae2a0",
       "version_major": 2,
       "version_minor": 0
      },
      "text/plain": [
       "JsmolView(layout=Layout(align_self='stretch', height='400px'))"
      ]
     },
     "metadata": {},
     "output_type": "display_data"
    }
   ],
   "source": [
    "view=quick_view(structure)\n",
    "display(view)\n",
    "view.script(\"draw symop 3 {atomno=3}\")"
   ]
  },
  {
   "cell_type": "code",
   "execution_count": 56,
   "id": "dressed-approval",
   "metadata": {},
   "outputs": [
    {
     "name": "stdout",
     "output_type": "stream",
     "text": [
      "Rot:\n",
      "[[ 0. -1.  0.]\n",
      " [ 1. -1.  0.]\n",
      " [ 0.  0.  1.]]\n",
      "tau\n",
      "[0. 0. 0.]\n"
     ]
    }
   ],
   "source": [
    "print(Sym2)"
   ]
  },
  {
   "cell_type": "markdown",
   "id": "quick-corporation",
   "metadata": {},
   "source": [
    "### Équation :"
   ]
  },
  {
   "cell_type": "markdown",
   "id": "indirect-halifax",
   "metadata": {},
   "source": [
    "\\begin{equation}\n",
    "\\begin{pmatrix}0 & -1 & 0\\\\1 & -1 & 0\\\\0 & 0 & 1\\end{pmatrix}\\begin{pmatrix}x\\\\y\\\\z\\end{pmatrix}=\\begin{pmatrix}-y\\\\x-y\\\\z\\end{pmatrix}\n",
    "\\end{equation}"
   ]
  },
  {
   "cell_type": "markdown",
   "id": "therapeutic-tobago",
   "metadata": {},
   "source": [
    "Le déterminant de cette matrice vaut 1. C’est une opération de\n",
    "première espèce qui conserve la chiralité."
   ]
  },
  {
   "cell_type": "code",
   "execution_count": 64,
   "id": "potential-companion",
   "metadata": {},
   "outputs": [
    {
     "name": "stdout",
     "output_type": "stream",
     "text": [
      "l'atome P passe de la position :[0.3333333333333333, 0.6666666666666666, 0.5] à la position :[-0.66666667 -0.33333333  0.5       ]\n"
     ]
    }
   ],
   "source": [
    "print(\"l'atome P passe de la position :\" + str(P) +  \" à la position :\" + str(P_s))"
   ]
  },
  {
   "cell_type": "markdown",
   "id": "copyrighted-mechanics",
   "metadata": {},
   "source": [
    "## 3)  Réflexion"
   ]
  },
  {
   "cell_type": "markdown",
   "id": "continental-somerset",
   "metadata": {},
   "source": [
    "Illustration de la réflexion par rapporrt à un plan mirroir:"
   ]
  },
  {
   "cell_type": "code",
   "execution_count": 66,
   "id": "everyday-device",
   "metadata": {},
   "outputs": [
    {
     "data": {
      "application/vnd.jupyter.widget-view+json": {
       "model_id": "79bd053cec204c889c9e8a49a8c4ffc0",
       "version_major": 2,
       "version_minor": 0
      },
      "text/plain": [
       "JsmolView(layout=Layout(align_self='stretch', height='400px'))"
      ]
     },
     "metadata": {},
     "output_type": "display_data"
    }
   ],
   "source": [
    "view=quick_view(structure)\n",
    "display(view)\n",
    "view.script(\"draw symop 8 {atomno=4}\")"
   ]
  },
  {
   "cell_type": "code",
   "execution_count": 67,
   "id": "searching-closure",
   "metadata": {},
   "outputs": [
    {
     "name": "stdout",
     "output_type": "stream",
     "text": [
      "Rot:\n",
      "[[ 0. -1.  0.]\n",
      " [-1.  0.  0.]\n",
      " [ 0.  0. -1.]]\n",
      "tau\n",
      "[0. 0. 0.]\n"
     ]
    }
   ],
   "source": [
    "print(Sym3)"
   ]
  },
  {
   "cell_type": "markdown",
   "id": "burning-specialist",
   "metadata": {},
   "source": [
    "### Équation :"
   ]
  },
  {
   "cell_type": "markdown",
   "id": "entitled-transformation",
   "metadata": {},
   "source": [
    "\\begin{equation}\n",
    "\\begin{pmatrix}0 & -1 & 0\\\\-1 & 0 & 0\\\\0 & 0 & -1\\end{pmatrix}\\begin{pmatrix}x\\\\y\\\\z\\end{pmatrix}=\\begin{pmatrix}-y\\\\-x\\\\-z\\end{pmatrix}\n",
    "\\end{equation}"
   ]
  },
  {
   "cell_type": "code",
   "execution_count": 68,
   "id": "offensive-fault",
   "metadata": {},
   "outputs": [
    {
     "name": "stdout",
     "output_type": "stream",
     "text": [
      "l'atome Ba passe de la position :[0.6666666666666666, 0.3333333333333333, 0] à la position :[-0.33333333 -0.66666667  0.        ]\n"
     ]
    }
   ],
   "source": [
    "print(\"l'atome Ba passe de la position :\" + str(Ba) +  \" à la position :\" + str(Ba_s))"
   ]
  }
 ],
 "metadata": {
  "kernelspec": {
   "display_name": "Python 3",
   "language": "python",
   "name": "python3"
  },
  "language_info": {
   "codemirror_mode": {
    "name": "ipython",
    "version": 3
   },
   "file_extension": ".py",
   "mimetype": "text/x-python",
   "name": "python",
   "nbconvert_exporter": "python",
   "pygments_lexer": "ipython3",
   "version": "3.6.8"
  }
 },
 "nbformat": 4,
 "nbformat_minor": 5
}
