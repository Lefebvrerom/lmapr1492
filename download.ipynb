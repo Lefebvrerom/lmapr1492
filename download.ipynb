{
 "cells": [
  {
   "cell_type": "code",
   "execution_count": 19,
   "id": "identical-treasury",
   "metadata": {},
   "outputs": [],
   "source": [
    "from pymatgen.ext.matproj import MPRester\n",
    "from pymatgen.io.cif import CifWriter"
   ]
  },
  {
   "cell_type": "code",
   "execution_count": 20,
   "id": "written-february",
   "metadata": {},
   "outputs": [],
   "source": [
    "with MPRester(\"mxlrouyFDIMHNAE4\") as m:\n",
    "    structure = m.get_structure_by_material_id(\"mp-10615\")\n"
   ]
  },
  {
   "cell_type": "code",
   "execution_count": 21,
   "id": "supreme-header",
   "metadata": {},
   "outputs": [],
   "source": [
    "w = CifWriter(structure)\n",
    "w.write_file('mystructure.cif')"
   ]
  },
  {
   "cell_type": "code",
   "execution_count": null,
   "id": "suspected-desktop",
   "metadata": {},
   "outputs": [],
   "source": []
  }
 ],
 "metadata": {
  "kernelspec": {
   "display_name": "Python 3",
   "language": "python",
   "name": "python3"
  },
  "language_info": {
   "codemirror_mode": {
    "name": "ipython",
    "version": 3
   },
   "file_extension": ".py",
   "mimetype": "text/x-python",
   "name": "python",
   "nbconvert_exporter": "python",
   "pygments_lexer": "ipython3",
   "version": "3.6.8"
  }
 },
 "nbformat": 4,
 "nbformat_minor": 5
}
